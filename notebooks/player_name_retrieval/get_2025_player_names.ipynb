{
 "cells": [
  {
   "cell_type": "code",
   "execution_count": 22,
   "id": "661a236f-afc9-4bdc-8263-c7f308e6583b",
   "metadata": {},
   "outputs": [],
   "source": [
    "# initialization\n",
    "from bs4 import BeautifulSoup\n",
    "from io import StringIO\n",
    "import requests\n",
    "import pandas as pd"
   ]
  },
  {
   "cell_type": "code",
   "execution_count": 23,
   "id": "ad4e3531-c82b-4855-8da0-22d782c2e2f7",
   "metadata": {},
   "outputs": [],
   "source": [
    "# data acquisition\n",
    "url = 'https://www.basketball-reference.com/contracts/players.html'\n",
    "try: \n",
    "    response = requests.get(url)\n",
    "    response.raise_for_status()\n",
    "    response_text = response.text\n",
    "except requests.exceptions.Timeout as e:\n",
    "    print(\"Request timed out:\", e)\n",
    "except requests.exceptions.RequestException as e:\n",
    "    print(\"An error occurred:\", e)"
   ]
  },
  {
   "cell_type": "code",
   "execution_count": 24,
   "id": "23534cd9-044a-470d-817c-be2b1e1bdf82",
   "metadata": {},
   "outputs": [],
   "source": [
    "# data reading\n",
    "soup = BeautifulSoup(response_text, \"html.parser\")\n",
    "stats_table = soup.find(id=\"player-contracts\")\n",
    "stats_df = pd.read_html(StringIO(str(stats_table)))[0]\n",
    "df = stats_df"
   ]
  },
  {
   "cell_type": "code",
   "execution_count": 25,
   "id": "47d21f97-e649-4ddf-8a5b-19bf583ab914",
   "metadata": {},
   "outputs": [],
   "source": [
    "# data cleaning\n",
    "df.rename(columns = {\"Unnamed: 1_level_0\": \"Player_Name\"}, inplace = True)\n",
    "for i in range(20, len(df), 22):  # Start from 20, step by 21\n",
    "    if i in df.index:\n",
    "        df = df.drop(i)\n",
    "        df = df.drop(i + 1)"
   ]
  },
  {
   "cell_type": "code",
   "execution_count": null,
   "id": "db68cda3-af8a-4356-ae31-961311521a6f",
   "metadata": {},
   "outputs": [],
   "source": [
    "# write data \n",
    "file_path2 = f\"2025_player_names.csv\"\n",
    "with open(file_path2, \"w+\", encoding=\"utf-8\") as f:\n",
    "    df[\"Player_Name\"].to_csv(f, index = False)"
   ]
  },
  {
   "cell_type": "markdown",
   "id": "0d3b14f8",
   "metadata": {},
   "source": [
    "## __! Important !__\n",
    "\n",
    "Must go through the list by hand to change the names with carons from different countries of origin. Its such a small amount of players so I went ahead and fixed the names."
   ]
  }
 ],
 "metadata": {
  "kernelspec": {
   "display_name": "NBAPlayerProp-env",
   "language": "python",
   "name": "python3"
  },
  "language_info": {
   "codemirror_mode": {
    "name": "ipython",
    "version": 3
   },
   "file_extension": ".py",
   "mimetype": "text/x-python",
   "name": "python",
   "nbconvert_exporter": "python",
   "pygments_lexer": "ipython3",
   "version": "3.13.5"
  }
 },
 "nbformat": 4,
 "nbformat_minor": 5
}
